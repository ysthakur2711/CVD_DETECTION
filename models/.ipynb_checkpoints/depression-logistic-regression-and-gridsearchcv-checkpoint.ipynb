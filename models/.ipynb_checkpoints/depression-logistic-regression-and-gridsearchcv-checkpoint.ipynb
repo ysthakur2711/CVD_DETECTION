{
 "cells": [
  {
   "cell_type": "markdown",
   "metadata": {},
   "source": [
    "### This is just a brief Notebook for appyling Logistic Regression and hyperparameter tuning using GridSearchCV "
   ]
  },
  {
   "cell_type": "code",
   "execution_count": null,
   "metadata": {},
   "outputs": [],
   "source": []
  },
  {
   "cell_type": "code",
   "execution_count": 1,
   "metadata": {
    "_cell_guid": "b1076dfc-b9ad-4769-8c92-a6c4dae69d19",
    "_uuid": "8f2839f25d086af736a60e9eeb907d3b93b6e0e5",
    "execution": {
     "iopub.execute_input": "2022-07-21T20:52:03.207614Z",
     "iopub.status.busy": "2022-07-21T20:52:03.206717Z",
     "iopub.status.idle": "2022-07-21T20:52:03.220865Z",
     "shell.execute_reply": "2022-07-21T20:52:03.220072Z",
     "shell.execute_reply.started": "2022-07-21T20:52:03.207575Z"
    }
   },
   "outputs": [],
   "source": [
    "import numpy as np \n",
    "import pandas as pd \n",
    "from sklearn.linear_model import LogisticRegression\n",
    "from sklearn.model_selection import GridSearchCV \n",
    "from sklearn.model_selection import train_test_split\n",
    "from sklearn.preprocessing import StandardScaler\n",
    "from sklearn.metrics import precision_score, recall_score, f1_score\n",
    "from sklearn.metrics import confusion_matrix\n",
    "import os\n",
    "for dirname, _, filenames in os.walk('/kaggle/input'):\n",
    "    for filename in filenames:\n",
    "        print(os.path.join(dirname, filename))"
   ]
  },
  {
   "cell_type": "markdown",
   "metadata": {},
   "source": [
    "## Loading and exploring the data"
   ]
  },
  {
   "cell_type": "code",
   "execution_count": 3,
   "metadata": {
    "execution": {
     "iopub.execute_input": "2022-07-21T21:35:44.987262Z",
     "iopub.status.busy": "2022-07-21T21:35:44.986879Z",
     "iopub.status.idle": "2022-07-21T21:35:45.020843Z",
     "shell.execute_reply": "2022-07-21T21:35:45.019575Z",
     "shell.execute_reply.started": "2022-07-21T21:35:44.987231Z"
    }
   },
   "outputs": [
    {
     "data": {
      "text/html": [
       "<div>\n",
       "<style scoped>\n",
       "    .dataframe tbody tr th:only-of-type {\n",
       "        vertical-align: middle;\n",
       "    }\n",
       "\n",
       "    .dataframe tbody tr th {\n",
       "        vertical-align: top;\n",
       "    }\n",
       "\n",
       "    .dataframe thead th {\n",
       "        text-align: right;\n",
       "    }\n",
       "</style>\n",
       "<table border=\"1\" class=\"dataframe\">\n",
       "  <thead>\n",
       "    <tr style=\"text-align: right;\">\n",
       "      <th></th>\n",
       "      <th>Survey_id</th>\n",
       "      <th>Ville_id</th>\n",
       "      <th>sex</th>\n",
       "      <th>Age</th>\n",
       "      <th>Married</th>\n",
       "      <th>Number_children</th>\n",
       "      <th>education_level</th>\n",
       "      <th>total_members</th>\n",
       "      <th>gained_asset</th>\n",
       "      <th>durable_asset</th>\n",
       "      <th>...</th>\n",
       "      <th>incoming_salary</th>\n",
       "      <th>incoming_own_farm</th>\n",
       "      <th>incoming_business</th>\n",
       "      <th>incoming_no_business</th>\n",
       "      <th>incoming_agricultural</th>\n",
       "      <th>farm_expenses</th>\n",
       "      <th>labor_primary</th>\n",
       "      <th>lasting_investment</th>\n",
       "      <th>no_lasting_investmen</th>\n",
       "      <th>depressed</th>\n",
       "    </tr>\n",
       "  </thead>\n",
       "  <tbody>\n",
       "    <tr>\n",
       "      <th>105</th>\n",
       "      <td>940</td>\n",
       "      <td>141</td>\n",
       "      <td>1</td>\n",
       "      <td>23</td>\n",
       "      <td>1</td>\n",
       "      <td>2</td>\n",
       "      <td>8</td>\n",
       "      <td>4</td>\n",
       "      <td>19207828</td>\n",
       "      <td>14557971</td>\n",
       "      <td>...</td>\n",
       "      <td>0</td>\n",
       "      <td>1</td>\n",
       "      <td>0</td>\n",
       "      <td>0</td>\n",
       "      <td>12812296</td>\n",
       "      <td>14680755</td>\n",
       "      <td>0</td>\n",
       "      <td>34566568</td>\n",
       "      <td>14680755.0</td>\n",
       "      <td>0</td>\n",
       "    </tr>\n",
       "    <tr>\n",
       "      <th>359</th>\n",
       "      <td>465</td>\n",
       "      <td>70</td>\n",
       "      <td>1</td>\n",
       "      <td>40</td>\n",
       "      <td>0</td>\n",
       "      <td>2</td>\n",
       "      <td>10</td>\n",
       "      <td>3</td>\n",
       "      <td>43026714</td>\n",
       "      <td>13773218</td>\n",
       "      <td>...</td>\n",
       "      <td>1</td>\n",
       "      <td>0</td>\n",
       "      <td>0</td>\n",
       "      <td>0</td>\n",
       "      <td>20019213</td>\n",
       "      <td>83413382</td>\n",
       "      <td>1</td>\n",
       "      <td>18556351</td>\n",
       "      <td>13428887.0</td>\n",
       "      <td>0</td>\n",
       "    </tr>\n",
       "    <tr>\n",
       "      <th>1065</th>\n",
       "      <td>789</td>\n",
       "      <td>55</td>\n",
       "      <td>1</td>\n",
       "      <td>24</td>\n",
       "      <td>1</td>\n",
       "      <td>2</td>\n",
       "      <td>9</td>\n",
       "      <td>5</td>\n",
       "      <td>28912201</td>\n",
       "      <td>22861940</td>\n",
       "      <td>...</td>\n",
       "      <td>0</td>\n",
       "      <td>0</td>\n",
       "      <td>0</td>\n",
       "      <td>0</td>\n",
       "      <td>30028818</td>\n",
       "      <td>31363432</td>\n",
       "      <td>0</td>\n",
       "      <td>28411718</td>\n",
       "      <td>28292707.0</td>\n",
       "      <td>0</td>\n",
       "    </tr>\n",
       "    <tr>\n",
       "      <th>828</th>\n",
       "      <td>633</td>\n",
       "      <td>54</td>\n",
       "      <td>0</td>\n",
       "      <td>37</td>\n",
       "      <td>0</td>\n",
       "      <td>0</td>\n",
       "      <td>14</td>\n",
       "      <td>5</td>\n",
       "      <td>28912201</td>\n",
       "      <td>22861940</td>\n",
       "      <td>...</td>\n",
       "      <td>0</td>\n",
       "      <td>0</td>\n",
       "      <td>0</td>\n",
       "      <td>0</td>\n",
       "      <td>30028818</td>\n",
       "      <td>31363432</td>\n",
       "      <td>0</td>\n",
       "      <td>28411718</td>\n",
       "      <td>28292707.0</td>\n",
       "      <td>0</td>\n",
       "    </tr>\n",
       "    <tr>\n",
       "      <th>386</th>\n",
       "      <td>405</td>\n",
       "      <td>39</td>\n",
       "      <td>1</td>\n",
       "      <td>21</td>\n",
       "      <td>1</td>\n",
       "      <td>1</td>\n",
       "      <td>10</td>\n",
       "      <td>5</td>\n",
       "      <td>28912201</td>\n",
       "      <td>22861940</td>\n",
       "      <td>...</td>\n",
       "      <td>0</td>\n",
       "      <td>0</td>\n",
       "      <td>0</td>\n",
       "      <td>0</td>\n",
       "      <td>30028818</td>\n",
       "      <td>31363432</td>\n",
       "      <td>0</td>\n",
       "      <td>28411718</td>\n",
       "      <td>28292707.0</td>\n",
       "      <td>0</td>\n",
       "    </tr>\n",
       "    <tr>\n",
       "      <th>110</th>\n",
       "      <td>96</td>\n",
       "      <td>8</td>\n",
       "      <td>1</td>\n",
       "      <td>17</td>\n",
       "      <td>1</td>\n",
       "      <td>2</td>\n",
       "      <td>9</td>\n",
       "      <td>5</td>\n",
       "      <td>28912201</td>\n",
       "      <td>22861940</td>\n",
       "      <td>...</td>\n",
       "      <td>0</td>\n",
       "      <td>0</td>\n",
       "      <td>0</td>\n",
       "      <td>0</td>\n",
       "      <td>30028818</td>\n",
       "      <td>31363432</td>\n",
       "      <td>0</td>\n",
       "      <td>28411718</td>\n",
       "      <td>28292707.0</td>\n",
       "      <td>0</td>\n",
       "    </tr>\n",
       "    <tr>\n",
       "      <th>377</th>\n",
       "      <td>113</td>\n",
       "      <td>10</td>\n",
       "      <td>1</td>\n",
       "      <td>25</td>\n",
       "      <td>1</td>\n",
       "      <td>3</td>\n",
       "      <td>8</td>\n",
       "      <td>5</td>\n",
       "      <td>22485095</td>\n",
       "      <td>24423439</td>\n",
       "      <td>...</td>\n",
       "      <td>0</td>\n",
       "      <td>0</td>\n",
       "      <td>1</td>\n",
       "      <td>1</td>\n",
       "      <td>80076847</td>\n",
       "      <td>64506354</td>\n",
       "      <td>0</td>\n",
       "      <td>24991501</td>\n",
       "      <td>77719032.0</td>\n",
       "      <td>0</td>\n",
       "    </tr>\n",
       "    <tr>\n",
       "      <th>584</th>\n",
       "      <td>144</td>\n",
       "      <td>10</td>\n",
       "      <td>1</td>\n",
       "      <td>22</td>\n",
       "      <td>1</td>\n",
       "      <td>5</td>\n",
       "      <td>11</td>\n",
       "      <td>7</td>\n",
       "      <td>23855212</td>\n",
       "      <td>17136446</td>\n",
       "      <td>...</td>\n",
       "      <td>0</td>\n",
       "      <td>1</td>\n",
       "      <td>0</td>\n",
       "      <td>0</td>\n",
       "      <td>11878066</td>\n",
       "      <td>46933932</td>\n",
       "      <td>0</td>\n",
       "      <td>45059564</td>\n",
       "      <td>11099541.0</td>\n",
       "      <td>0</td>\n",
       "    </tr>\n",
       "    <tr>\n",
       "      <th>1328</th>\n",
       "      <td>505</td>\n",
       "      <td>77</td>\n",
       "      <td>1</td>\n",
       "      <td>40</td>\n",
       "      <td>1</td>\n",
       "      <td>8</td>\n",
       "      <td>9</td>\n",
       "      <td>10</td>\n",
       "      <td>20019212</td>\n",
       "      <td>25624592</td>\n",
       "      <td>...</td>\n",
       "      <td>0</td>\n",
       "      <td>0</td>\n",
       "      <td>0</td>\n",
       "      <td>0</td>\n",
       "      <td>17083061</td>\n",
       "      <td>18266418</td>\n",
       "      <td>0</td>\n",
       "      <td>66693719</td>\n",
       "      <td>58304844.0</td>\n",
       "      <td>1</td>\n",
       "    </tr>\n",
       "    <tr>\n",
       "      <th>570</th>\n",
       "      <td>422</td>\n",
       "      <td>71</td>\n",
       "      <td>1</td>\n",
       "      <td>31</td>\n",
       "      <td>1</td>\n",
       "      <td>4</td>\n",
       "      <td>10</td>\n",
       "      <td>5</td>\n",
       "      <td>28912201</td>\n",
       "      <td>22861940</td>\n",
       "      <td>...</td>\n",
       "      <td>0</td>\n",
       "      <td>0</td>\n",
       "      <td>0</td>\n",
       "      <td>0</td>\n",
       "      <td>30028818</td>\n",
       "      <td>31363432</td>\n",
       "      <td>0</td>\n",
       "      <td>28411718</td>\n",
       "      <td>28292707.0</td>\n",
       "      <td>0</td>\n",
       "    </tr>\n",
       "  </tbody>\n",
       "</table>\n",
       "<p>10 rows × 23 columns</p>\n",
       "</div>"
      ],
      "text/plain": [
       "      Survey_id  Ville_id  sex  Age  Married  Number_children  \\\n",
       "105         940       141    1   23        1                2   \n",
       "359         465        70    1   40        0                2   \n",
       "1065        789        55    1   24        1                2   \n",
       "828         633        54    0   37        0                0   \n",
       "386         405        39    1   21        1                1   \n",
       "110          96         8    1   17        1                2   \n",
       "377         113        10    1   25        1                3   \n",
       "584         144        10    1   22        1                5   \n",
       "1328        505        77    1   40        1                8   \n",
       "570         422        71    1   31        1                4   \n",
       "\n",
       "      education_level  total_members  gained_asset  durable_asset  ...  \\\n",
       "105                 8              4      19207828       14557971  ...   \n",
       "359                10              3      43026714       13773218  ...   \n",
       "1065                9              5      28912201       22861940  ...   \n",
       "828                14              5      28912201       22861940  ...   \n",
       "386                10              5      28912201       22861940  ...   \n",
       "110                 9              5      28912201       22861940  ...   \n",
       "377                 8              5      22485095       24423439  ...   \n",
       "584                11              7      23855212       17136446  ...   \n",
       "1328                9             10      20019212       25624592  ...   \n",
       "570                10              5      28912201       22861940  ...   \n",
       "\n",
       "      incoming_salary  incoming_own_farm  incoming_business  \\\n",
       "105                 0                  1                  0   \n",
       "359                 1                  0                  0   \n",
       "1065                0                  0                  0   \n",
       "828                 0                  0                  0   \n",
       "386                 0                  0                  0   \n",
       "110                 0                  0                  0   \n",
       "377                 0                  0                  1   \n",
       "584                 0                  1                  0   \n",
       "1328                0                  0                  0   \n",
       "570                 0                  0                  0   \n",
       "\n",
       "      incoming_no_business  incoming_agricultural  farm_expenses  \\\n",
       "105                      0               12812296       14680755   \n",
       "359                      0               20019213       83413382   \n",
       "1065                     0               30028818       31363432   \n",
       "828                      0               30028818       31363432   \n",
       "386                      0               30028818       31363432   \n",
       "110                      0               30028818       31363432   \n",
       "377                      1               80076847       64506354   \n",
       "584                      0               11878066       46933932   \n",
       "1328                     0               17083061       18266418   \n",
       "570                      0               30028818       31363432   \n",
       "\n",
       "      labor_primary  lasting_investment  no_lasting_investmen  depressed  \n",
       "105               0            34566568            14680755.0          0  \n",
       "359               1            18556351            13428887.0          0  \n",
       "1065              0            28411718            28292707.0          0  \n",
       "828               0            28411718            28292707.0          0  \n",
       "386               0            28411718            28292707.0          0  \n",
       "110               0            28411718            28292707.0          0  \n",
       "377               0            24991501            77719032.0          0  \n",
       "584               0            45059564            11099541.0          0  \n",
       "1328              0            66693719            58304844.0          1  \n",
       "570               0            28411718            28292707.0          0  \n",
       "\n",
       "[10 rows x 23 columns]"
      ]
     },
     "execution_count": 3,
     "metadata": {},
     "output_type": "execute_result"
    }
   ],
   "source": [
    "df = pd.read_csv('b_depressed.csv')\n",
    "df.sample(10)"
   ]
  },
  {
   "cell_type": "code",
   "execution_count": 4,
   "metadata": {
    "execution": {
     "iopub.execute_input": "2022-07-21T20:52:15.85033Z",
     "iopub.status.busy": "2022-07-21T20:52:15.849476Z",
     "iopub.status.idle": "2022-07-21T20:52:15.865106Z",
     "shell.execute_reply": "2022-07-21T20:52:15.863714Z",
     "shell.execute_reply.started": "2022-07-21T20:52:15.850285Z"
    }
   },
   "outputs": [
    {
     "name": "stdout",
     "output_type": "stream",
     "text": [
      "<class 'pandas.core.frame.DataFrame'>\n",
      "RangeIndex: 1429 entries, 0 to 1428\n",
      "Data columns (total 23 columns):\n",
      " #   Column                 Non-Null Count  Dtype  \n",
      "---  ------                 --------------  -----  \n",
      " 0   Survey_id              1429 non-null   int64  \n",
      " 1   Ville_id               1429 non-null   int64  \n",
      " 2   sex                    1429 non-null   int64  \n",
      " 3   Age                    1429 non-null   int64  \n",
      " 4   Married                1429 non-null   int64  \n",
      " 5   Number_children        1429 non-null   int64  \n",
      " 6   education_level        1429 non-null   int64  \n",
      " 7   total_members          1429 non-null   int64  \n",
      " 8   gained_asset           1429 non-null   int64  \n",
      " 9   durable_asset          1429 non-null   int64  \n",
      " 10  save_asset             1429 non-null   int64  \n",
      " 11  living_expenses        1429 non-null   int64  \n",
      " 12  other_expenses         1429 non-null   int64  \n",
      " 13  incoming_salary        1429 non-null   int64  \n",
      " 14  incoming_own_farm      1429 non-null   int64  \n",
      " 15  incoming_business      1429 non-null   int64  \n",
      " 16  incoming_no_business   1429 non-null   int64  \n",
      " 17  incoming_agricultural  1429 non-null   int64  \n",
      " 18  farm_expenses          1429 non-null   int64  \n",
      " 19  labor_primary          1429 non-null   int64  \n",
      " 20  lasting_investment     1429 non-null   int64  \n",
      " 21  no_lasting_investmen   1409 non-null   float64\n",
      " 22  depressed              1429 non-null   int64  \n",
      "dtypes: float64(1), int64(22)\n",
      "memory usage: 256.9 KB\n"
     ]
    }
   ],
   "source": [
    "df.info()"
   ]
  },
  {
   "cell_type": "code",
   "execution_count": 5,
   "metadata": {
    "execution": {
     "iopub.execute_input": "2022-07-21T20:52:18.698819Z",
     "iopub.status.busy": "2022-07-21T20:52:18.698462Z",
     "iopub.status.idle": "2022-07-21T20:52:18.708133Z",
     "shell.execute_reply": "2022-07-21T20:52:18.707332Z",
     "shell.execute_reply.started": "2022-07-21T20:52:18.698788Z"
    }
   },
   "outputs": [
    {
     "data": {
      "text/plain": [
       "Survey_id                 0\n",
       "Ville_id                  0\n",
       "sex                       0\n",
       "Age                       0\n",
       "Married                   0\n",
       "Number_children           0\n",
       "education_level           0\n",
       "total_members             0\n",
       "gained_asset              0\n",
       "durable_asset             0\n",
       "save_asset                0\n",
       "living_expenses           0\n",
       "other_expenses            0\n",
       "incoming_salary           0\n",
       "incoming_own_farm         0\n",
       "incoming_business         0\n",
       "incoming_no_business      0\n",
       "incoming_agricultural     0\n",
       "farm_expenses             0\n",
       "labor_primary             0\n",
       "lasting_investment        0\n",
       "no_lasting_investmen     20\n",
       "depressed                 0\n",
       "dtype: int64"
      ]
     },
     "execution_count": 5,
     "metadata": {},
     "output_type": "execute_result"
    }
   ],
   "source": [
    "df.isnull().sum()"
   ]
  },
  {
   "cell_type": "markdown",
   "metadata": {},
   "source": [
    "### Removing 20 rows with null values"
   ]
  },
  {
   "cell_type": "code",
   "execution_count": 6,
   "metadata": {
    "execution": {
     "iopub.execute_input": "2022-07-21T21:35:52.455084Z",
     "iopub.status.busy": "2022-07-21T21:35:52.454668Z",
     "iopub.status.idle": "2022-07-21T21:35:52.468754Z",
     "shell.execute_reply": "2022-07-21T21:35:52.46765Z",
     "shell.execute_reply.started": "2022-07-21T21:35:52.455052Z"
    }
   },
   "outputs": [
    {
     "data": {
      "text/plain": [
       "Survey_id                0\n",
       "Ville_id                 0\n",
       "sex                      0\n",
       "Age                      0\n",
       "Married                  0\n",
       "Number_children          0\n",
       "education_level          0\n",
       "total_members            0\n",
       "gained_asset             0\n",
       "durable_asset            0\n",
       "save_asset               0\n",
       "living_expenses          0\n",
       "other_expenses           0\n",
       "incoming_salary          0\n",
       "incoming_own_farm        0\n",
       "incoming_business        0\n",
       "incoming_no_business     0\n",
       "incoming_agricultural    0\n",
       "farm_expenses            0\n",
       "labor_primary            0\n",
       "lasting_investment       0\n",
       "no_lasting_investmen     0\n",
       "depressed                0\n",
       "dtype: int64"
      ]
     },
     "execution_count": 6,
     "metadata": {},
     "output_type": "execute_result"
    }
   ],
   "source": [
    "df.drop(df[(df['no_lasting_investmen'].isnull())].index, axis = 0, inplace = True)\n",
    "df.isnull().sum()"
   ]
  },
  {
   "cell_type": "code",
   "execution_count": 7,
   "metadata": {
    "execution": {
     "iopub.execute_input": "2022-07-21T20:52:03.77251Z",
     "iopub.status.busy": "2022-07-21T20:52:03.771543Z",
     "iopub.status.idle": "2022-07-21T20:52:03.779793Z",
     "shell.execute_reply": "2022-07-21T20:52:03.779038Z",
     "shell.execute_reply.started": "2022-07-21T20:52:03.772474Z"
    }
   },
   "outputs": [
    {
     "data": {
      "text/plain": [
       "Index(['Survey_id', 'Ville_id', 'sex', 'Age', 'Married', 'Number_children',\n",
       "       'education_level', 'total_members', 'gained_asset', 'durable_asset',\n",
       "       'save_asset', 'living_expenses', 'other_expenses', 'incoming_salary',\n",
       "       'incoming_own_farm', 'incoming_business', 'incoming_no_business',\n",
       "       'incoming_agricultural', 'farm_expenses', 'labor_primary',\n",
       "       'lasting_investment', 'no_lasting_investmen', 'depressed'],\n",
       "      dtype='object')"
      ]
     },
     "execution_count": 7,
     "metadata": {},
     "output_type": "execute_result"
    }
   ],
   "source": [
    "df.columns"
   ]
  },
  {
   "cell_type": "markdown",
   "metadata": {},
   "source": [
    "## Scaling large values "
   ]
  },
  {
   "cell_type": "code",
   "execution_count": 8,
   "metadata": {
    "execution": {
     "iopub.execute_input": "2022-07-21T21:35:58.821554Z",
     "iopub.status.busy": "2022-07-21T21:35:58.821161Z",
     "iopub.status.idle": "2022-07-21T21:35:58.834989Z",
     "shell.execute_reply": "2022-07-21T21:35:58.833669Z",
     "shell.execute_reply.started": "2022-07-21T21:35:58.821522Z"
    }
   },
   "outputs": [],
   "source": [
    "df = pd.get_dummies(df, columns=['Ville_id', 'education_level'])"
   ]
  },
  {
   "cell_type": "code",
   "execution_count": 9,
   "metadata": {
    "execution": {
     "iopub.execute_input": "2022-07-21T21:36:00.448615Z",
     "iopub.status.busy": "2022-07-21T21:36:00.448225Z",
     "iopub.status.idle": "2022-07-21T21:36:00.511393Z",
     "shell.execute_reply": "2022-07-21T21:36:00.510175Z",
     "shell.execute_reply.started": "2022-07-21T21:36:00.448583Z"
    }
   },
   "outputs": [],
   "source": [
    "cols = df.columns.values\n",
    "large_data = [i for i in cols if df[i].mean() > 10000]\n",
    "scaler = StandardScaler()\n",
    "df_std = scaler.fit_transform(df[large_data])\n",
    "df[large_data]= df_std "
   ]
  },
  {
   "cell_type": "markdown",
   "metadata": {},
   "source": [
    "## Target and feature values"
   ]
  },
  {
   "cell_type": "code",
   "execution_count": 10,
   "metadata": {
    "execution": {
     "iopub.execute_input": "2022-07-21T21:36:03.754145Z",
     "iopub.status.busy": "2022-07-21T21:36:03.752993Z",
     "iopub.status.idle": "2022-07-21T21:36:03.761138Z",
     "shell.execute_reply": "2022-07-21T21:36:03.760029Z",
     "shell.execute_reply.started": "2022-07-21T21:36:03.754103Z"
    }
   },
   "outputs": [],
   "source": [
    "X = df.drop(['depressed','Survey_id'], axis = 1)\n",
    "y = df['depressed']"
   ]
  },
  {
   "cell_type": "markdown",
   "metadata": {},
   "source": [
    "# GridSearchCV for finding the best parameters"
   ]
  },
  {
   "cell_type": "code",
   "execution_count": 11,
   "metadata": {
    "execution": {
     "iopub.execute_input": "2022-07-21T21:36:07.354445Z",
     "iopub.status.busy": "2022-07-21T21:36:07.354004Z",
     "iopub.status.idle": "2022-07-21T21:36:07.360777Z",
     "shell.execute_reply": "2022-07-21T21:36:07.359556Z",
     "shell.execute_reply.started": "2022-07-21T21:36:07.35441Z"
    }
   },
   "outputs": [],
   "source": [
    "lg_model = LogisticRegression()\n",
    "param_grid = [    \n",
    "    {'penalty' : ['l2', 'elasticnet', 'none'],\n",
    "    'C' : np.logspace(-4, 4, 20),\n",
    "    'solver' : ['lbfgs','newton-cg','sag'],\n",
    "    'max_iter' : [100, 1000,2500, 5000]\n",
    "    }\n",
    "]"
   ]
  },
  {
   "cell_type": "markdown",
   "metadata": {},
   "source": [
    "## what is C?\n",
    "In our case which the data is not too much (1429 rows) we use different range of \"C\" to reduce the \"Overfitting\". A high C means \"Trust this training data a lot\", while a low value says \"This data may not be fully representative of the real world data, so if it's telling you to make a parameter really large, don't listen to it\". [here](http:/https://stackoverflow.com/questions/67513075/what-is-c-parameter-in-sklearn-logistic-regression/)"
   ]
  },
  {
   "cell_type": "code",
   "execution_count": 12,
   "metadata": {
    "execution": {
     "iopub.execute_input": "2022-07-21T21:36:11.637432Z",
     "iopub.status.busy": "2022-07-21T21:36:11.637058Z",
     "iopub.status.idle": "2022-07-21T21:36:11.642814Z",
     "shell.execute_reply": "2022-07-21T21:36:11.641577Z",
     "shell.execute_reply.started": "2022-07-21T21:36:11.637401Z"
    }
   },
   "outputs": [],
   "source": [
    "clf =  GridSearchCV(lg_model, param_grid = param_grid, cv = 3, n_jobs=-1);  #I concider n_job as -1 to use all processors and make it a little faster."
   ]
  },
  {
   "cell_type": "markdown",
   "metadata": {},
   "source": [
    "#### When we perform hyperparameter tuning information about dataset still **'leaks'** into the algorithm. SO, before doing the GridSearchCV, I decided to split the train and test data."
   ]
  },
  {
   "cell_type": "code",
   "execution_count": 13,
   "metadata": {
    "execution": {
     "iopub.execute_input": "2022-07-21T21:36:14.448106Z",
     "iopub.status.busy": "2022-07-21T21:36:14.447007Z",
     "iopub.status.idle": "2022-07-21T21:36:14.457277Z",
     "shell.execute_reply": "2022-07-21T21:36:14.456437Z",
     "shell.execute_reply.started": "2022-07-21T21:36:14.448061Z"
    }
   },
   "outputs": [],
   "source": [
    "X_train, X_test, y_train, y_test = train_test_split(X,y, test_size = 0.25, random_state = 100)"
   ]
  },
  {
   "cell_type": "markdown",
   "metadata": {},
   "source": [
    "### Fitting the GridSearchCV on train data"
   ]
  },
  {
   "cell_type": "code",
   "execution_count": null,
   "metadata": {
    "_kg_hide-output": true,
    "execution": {
     "iopub.execute_input": "2022-07-21T21:36:17.286188Z",
     "iopub.status.busy": "2022-07-21T21:36:17.285459Z",
     "iopub.status.idle": "2022-07-21T21:53:27.946059Z",
     "shell.execute_reply": "2022-07-21T21:53:27.944504Z",
     "shell.execute_reply.started": "2022-07-21T21:36:17.286153Z"
    }
   },
   "outputs": [],
   "source": [
    "best_clf = clf.fit(X_train,y_train)"
   ]
  },
  {
   "cell_type": "markdown",
   "metadata": {},
   "source": [
    "## Let's see the best estimator and params"
   ]
  },
  {
   "cell_type": "code",
   "execution_count": null,
   "metadata": {},
   "outputs": [],
   "source": [
    "best_clf.best_estimator_\n",
    "best_clf.best_params_"
   ]
  },
  {
   "cell_type": "markdown",
   "metadata": {},
   "source": [
    "## Accuracy for training data"
   ]
  },
  {
   "cell_type": "code",
   "execution_count": null,
   "metadata": {
    "execution": {
     "iopub.execute_input": "2022-07-21T22:01:26.034031Z",
     "iopub.status.busy": "2022-07-21T22:01:26.033002Z",
     "iopub.status.idle": "2022-07-21T22:01:26.051136Z",
     "shell.execute_reply": "2022-07-21T22:01:26.04977Z",
     "shell.execute_reply.started": "2022-07-21T22:01:26.033976Z"
    }
   },
   "outputs": [],
   "source": [
    "print (f'Accuracy for training data : {best_clf.score(X_train,y_train):.3f}')"
   ]
  },
  {
   "cell_type": "markdown",
   "metadata": {},
   "source": [
    "### Applying the best parameters on test data"
   ]
  },
  {
   "cell_type": "code",
   "execution_count": null,
   "metadata": {
    "_kg_hide-input": false,
    "_kg_hide-output": true,
    "execution": {
     "iopub.execute_input": "2022-07-21T22:04:37.722122Z",
     "iopub.status.busy": "2022-07-21T22:04:37.721743Z",
     "iopub.status.idle": "2022-07-21T22:04:37.752402Z",
     "shell.execute_reply": "2022-07-21T22:04:37.751097Z",
     "shell.execute_reply.started": "2022-07-21T22:04:37.72209Z"
    }
   },
   "outputs": [],
   "source": [
    "clf2 = LogisticRegression(penalty = 'l2', C = 0.0001,solver = 'lbfgs', max_iter= 100)\n",
    "test_clf = clf2.fit(X_test,y_test)"
   ]
  },
  {
   "cell_type": "code",
   "execution_count": null,
   "metadata": {
    "execution": {
     "iopub.execute_input": "2022-07-21T22:04:41.63174Z",
     "iopub.status.busy": "2022-07-21T22:04:41.63135Z",
     "iopub.status.idle": "2022-07-21T22:04:41.646545Z",
     "shell.execute_reply": "2022-07-21T22:04:41.644952Z",
     "shell.execute_reply.started": "2022-07-21T22:04:41.631707Z"
    }
   },
   "outputs": [],
   "source": [
    "print (f'Accuracy for test data is : {test_clf.score(X_test,y_test):.3f}')"
   ]
  },
  {
   "cell_type": "markdown",
   "metadata": {},
   "source": [
    "### Confusion Matrix"
   ]
  },
  {
   "cell_type": "code",
   "execution_count": null,
   "metadata": {
    "execution": {
     "iopub.execute_input": "2022-07-21T22:04:46.880241Z",
     "iopub.status.busy": "2022-07-21T22:04:46.879888Z",
     "iopub.status.idle": "2022-07-21T22:04:46.901204Z",
     "shell.execute_reply": "2022-07-21T22:04:46.899796Z",
     "shell.execute_reply.started": "2022-07-21T22:04:46.880213Z"
    }
   },
   "outputs": [],
   "source": [
    "y_pred = clf2.predict(X_test)\n",
    "print(confusion_matrix(y_test, y_pred))"
   ]
  },
  {
   "cell_type": "markdown",
   "metadata": {},
   "source": [
    "### Even after iterating over different parameters the accuracy is still down and the model did not predict 51 depressed cases. Any idea?"
   ]
  }
 ],
 "metadata": {
  "kernelspec": {
   "display_name": "Python 3",
   "language": "python",
   "name": "python3"
  },
  "language_info": {
   "codemirror_mode": {
    "name": "ipython",
    "version": 3
   },
   "file_extension": ".py",
   "mimetype": "text/x-python",
   "name": "python",
   "nbconvert_exporter": "python",
   "pygments_lexer": "ipython3",
   "version": "3.7.3"
  }
 },
 "nbformat": 4,
 "nbformat_minor": 4
}
